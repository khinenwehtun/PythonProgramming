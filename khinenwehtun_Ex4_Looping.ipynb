{
  "cells": [
    {
      "cell_type": "markdown",
      "metadata": {
        "id": "view-in-github",
        "colab_type": "text"
      },
      "source": [
        "<a href=\"https://colab.research.google.com/github/khinenwehtun/PythonProgramming/blob/main/khinenwehtun_Ex4_Looping.ipynb\" target=\"_parent\"><img src=\"https://colab.research.google.com/assets/colab-badge.svg\" alt=\"Open In Colab\"/></a>"
      ]
    },
    {
      "cell_type": "markdown",
      "metadata": {
        "id": "YeTHwB3EASGn"
      },
      "source": [
        "The exercises are extracted from A_Practical_Introduction_to_Python_Programming_Heinold.pdf"
      ]
    },
    {
      "cell_type": "markdown",
      "metadata": {
        "id": "wVOW5QDgAZ_R"
      },
      "source": [
        "Ex 1: Write a program that uses a while loop (not a for loop) to read through a string and print\n",
        "the characters of the string one-by-one on separate lines."
      ]
    },
    {
      "cell_type": "code",
      "execution_count": 2,
      "metadata": {
        "id": "77KGqP-sJJNh",
        "outputId": "e9e770a2-6952-425c-8469-0883b20ea8fd",
        "colab": {
          "base_uri": "https://localhost:8080/"
        }
      },
      "outputs": [
        {
          "output_type": "stream",
          "name": "stdout",
          "text": [
            "H\n",
            "e\n",
            "l\n",
            "l\n",
            "o\n",
            ",\n",
            " \n",
            "p\n",
            "y\n",
            "t\n",
            "h\n",
            "o\n",
            "n\n",
            "!\n"
          ]
        }
      ],
      "source": [
        " text = \"Hello, python!\"\n",
        " index = 0\n",
        " while index < len(text):\n",
        "  print(text[index])\n",
        "  index += 1"
      ]
    },
    {
      "cell_type": "markdown",
      "metadata": {
        "id": "5B-LyYV0AkCK"
      },
      "source": [
        "Ex 2: A good program will make sure that the data its users enter is valid. Write a program that\n",
        "asks the user for a weight and converts it from kilograms to pounds. Whenever the user\n",
        "enters a weight below 0, the program should tell them that their entry is invalid and then ask\n",
        "them again to enter a weight. [Hint: Use a while loop, not an if statement]."
      ]
    },
    {
      "cell_type": "code",
      "source": [
        "KG_TO_POUNDS=input(2.20462)\n",
        "while True:\n",
        "    weight = float(input(\"Enter a weight in kilograms: \"))\n",
        "\n",
        "    if weight < 0:\n",
        "        print(\"Invalid entry. Weight cannot be negative. Please try again.\")\n",
        "    else:\n",
        "        break\n",
        "    pounds = weight * KG_TO_POUNDS\n",
        "    print(f\"{weight} kilograms is equal to {pounds:.2f} pounds.\")"
      ],
      "metadata": {
        "id": "nNim7CT2CLzW"
      },
      "execution_count": null,
      "outputs": []
    },
    {
      "cell_type": "markdown",
      "metadata": {
        "id": "zQT0pCjRAsIK"
      },
      "source": [
        "Ex 3: Write a program that allows the user to enter any number of test scores. The user indicates\n",
        "they are done by entering in a negative number. Print how many of the scores are A’s (90 or\n",
        "above). Also print out the average"
      ]
    },
    {
      "cell_type": "code",
      "execution_count": null,
      "metadata": {
        "id": "Gya-rvYUAviK",
        "outputId": "8a333000-6485-479b-ec99-76a4f641081f",
        "colab": {
          "base_uri": "https://localhost:8080/"
        }
      },
      "outputs": [
        {
          "name": "stdout",
          "output_type": "stream",
          "text": [
            "Enter test scores one by one. Enter a negative number to finish.\n",
            "Enter a test score: 90\n",
            "Enter a test score: 30\n"
          ]
        }
      ],
      "source": [
        "total_score = 0\n",
        "score_count = 0\n",
        "a_count = 0\n",
        "print(\"Enter test scores one by one. Enter a negative number to finish.\")\n",
        "while True:\n",
        "    try:\n",
        "        score = float(input(\"Enter a test score: \"))\n",
        "        if score < 0:\n",
        "          break\n",
        "          if score >= 90:\n",
        "            a_count += 1\n",
        "        total_score += score\n",
        "        score_count += 1\n",
        "    except ValueError:\n",
        "          print(\"Invalid input. Please enter a numeric value.\")\n",
        "if score_count > 0:\n",
        "    average = total_score / score_count\n",
        "    print(f\"\\nNumber of A's (90 or above): {a_count}\")\n",
        "    print(f\"Average score: {average:.2f}\")\n",
        "else:\n",
        "    print(\"\\nNo valid scores were entered.\")\n"
      ]
    },
    {
      "cell_type": "markdown",
      "metadata": {
        "id": "IHIWc5jHAwxY"
      },
      "source": [
        "Ex 4: Write a program that asks the user for a string and a letter. Using a for loop, the\n",
        "program should print the index of the first occurrence of that letter and a message if the\n",
        "string does not contain the letter."
      ]
    },
    {
      "cell_type": "code",
      "execution_count": null,
      "metadata": {
        "id": "xSe0mtQ8A68M"
      },
      "outputs": [],
      "source": [
        "user_string = input(\"Enter a string: \")\n",
        "letter = input(\"Enter a letter to search for: \")\n",
        "if len(letter) != 1:\n",
        "    print(\"Please enter exactly one letter.\")\n",
        "else:\n",
        "  found = False\n",
        "for index in range(len(user_string)):\n",
        "        if user_string[index] == letter:\n",
        "            print(f\"The letter '{letter}' first occurs at index {index}.\")\n",
        "            found = True\n",
        "            break\n",
        "            if not found:\n",
        "               print(f\"The letter '{letter}' is not in the string.\")"
      ]
    },
    {
      "cell_type": "markdown",
      "metadata": {
        "id": "PfyUq4CnA8vk"
      },
      "source": [
        "Ex 5: Write a program in which you have a list that contains seven integers that can be 0 or 1. Find the first zero entry in the list and change it to a 1. If there are no zero entries, print a message saying so."
      ]
    },
    {
      "cell_type": "code",
      "execution_count": null,
      "metadata": {
        "id": "D4YDlFeg_LA2"
      },
      "outputs": [],
      "source": [
        "binary_list = [1, 1, 0, 1, 0, 1, 1]\n",
        "zero_found = False\n",
        "for i in range(len(binary_list)):\n",
        "    if binary_list[i] == 0:\n",
        "        binary_list[i] = 1\n",
        "        zero_found = True\n",
        "        break\n",
        "\n",
        "if zero_found:\n",
        "    print(\"Updated list:\", binary_list)\n",
        "else:\n",
        "    print(\"No zero entries found.\")"
      ]
    },
    {
      "cell_type": "code",
      "source": [],
      "metadata": {
        "id": "67nLt63cEOVY"
      },
      "execution_count": null,
      "outputs": []
    }
  ],
  "metadata": {
    "colab": {
      "name": "Ex4_Looping.ipynb",
      "provenance": [],
      "include_colab_link": true
    },
    "kernelspec": {
      "display_name": "Python 3",
      "name": "python3"
    },
    "language_info": {
      "codemirror_mode": {
        "name": "ipython",
        "version": 3
      },
      "file_extension": ".py",
      "mimetype": "text/x-python",
      "name": "python",
      "nbconvert_exporter": "python",
      "pygments_lexer": "ipython3",
      "version": "3.12.1"
    }
  },
  "nbformat": 4,
  "nbformat_minor": 0
}